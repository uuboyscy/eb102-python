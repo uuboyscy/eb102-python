{
 "cells": [
  {
   "cell_type": "code",
   "execution_count": 1,
   "metadata": {},
   "outputs": [
    {
     "name": "stdout",
     "output_type": "stream",
     "text": [
      "Successfully connected!\n"
     ]
    }
   ],
   "source": [
    "# 連接資料庫\n",
    "import pymysql\n",
    "\n",
    "host = 'localhost'\n",
    "port = 3306\n",
    "user = 'root'\n",
    "passwd = 'root'\n",
    "db = 'TESTDB'\n",
    "charset = 'utf8mb4'\n",
    "\n",
    "conn = pymysql.connect(host=host, port=port, user=user, passwd=passwd, db=db, charset=charset)\n",
    "print('Successfully connected!')\n",
    "\n",
    "cursor = conn.cursor()"
   ]
  },
  {
   "cell_type": "code",
   "execution_count": 2,
   "metadata": {},
   "outputs": [],
   "source": [
    "sql_insert = \"\"\"\n",
    "INSERT INTO Staff (ID, Name, DeptId, Age, Gender, Salary, recordDt)\n",
    "VALUES (%s, %s, %s, %s, %s, %s, %s);\n",
    "\"\"\""
   ]
  },
  {
   "cell_type": "code",
   "execution_count": 4,
   "metadata": {
    "scrolled": true
   },
   "outputs": [
    {
     "data": {
      "text/plain": [
       "{'001': {'ID': '001',\n",
       "  'Name': 'Jay',\n",
       "  'DeptId': '001',\n",
       "  'Age': '50',\n",
       "  'Gender': 'M',\n",
       "  'Salary': '56000'},\n",
       " '002': {'ID': '002',\n",
       "  'Name': 'Jenny',\n",
       "  'DeptId': '001',\n",
       "  'Age': '30',\n",
       "  'Gender': 'F',\n",
       "  'Salary': '47000'},\n",
       " '003': {'ID': '003',\n",
       "  'Name': 'Rick',\n",
       "  'DeptId': '002',\n",
       "  'Age': '45',\n",
       "  'Gender': 'M',\n",
       "  'Salary': '50000'},\n",
       " '004': {'ID': '004',\n",
       "  'Name': 'David',\n",
       "  'DeptId': '003',\n",
       "  'Age': '47',\n",
       "  'Gender': 'M',\n",
       "  'Salary': '45000'},\n",
       " '005': {'ID': '005',\n",
       "  'Name': 'Jake',\n",
       "  'DeptId': '002',\n",
       "  'Age': '32',\n",
       "  'Gender': 'M',\n",
       "  'Salary': '55000'},\n",
       " '006': {'ID': '006',\n",
       "  'Name': 'Abby',\n",
       "  'DeptId': '001',\n",
       "  'Age': '25',\n",
       "  'Gender': 'F',\n",
       "  'Salary': '40000'},\n",
       " '007': {'ID': '007',\n",
       "  'Name': 'Trump',\n",
       "  'DeptId': '003',\n",
       "  'Age': '80',\n",
       "  'Gender': 'M',\n",
       "  'Salary': '90000'},\n",
       " '008': {'ID': '008',\n",
       "  'Name': 'Eric',\n",
       "  'DeptId': '001',\n",
       "  'Age': '26',\n",
       "  'Gender': 'M',\n",
       "  'Salary': '85000'}}"
      ]
     },
     "execution_count": 4,
     "metadata": {},
     "output_type": "execute_result"
    }
   ],
   "source": [
    "import json\n",
    "import time\n",
    "\n",
    "path = 'Staff.json'\n",
    "with open(path, 'r', encoding='utf-8') as f:\n",
    "    jsondata = json.loads(f.read())\n",
    "\n",
    "jsondata"
   ]
  },
  {
   "cell_type": "code",
   "execution_count": 8,
   "metadata": {},
   "outputs": [
    {
     "data": {
      "text/plain": [
       "[('001', 'Jay', '001', '50', 'M', '56000', '2020-05-16 11:38:37'),\n",
       " ('002', 'Jenny', '001', '30', 'F', '47000', '2020-05-16 11:38:37'),\n",
       " ('003', 'Rick', '002', '45', 'M', '50000', '2020-05-16 11:38:37'),\n",
       " ('004', 'David', '003', '47', 'M', '45000', '2020-05-16 11:38:37'),\n",
       " ('005', 'Jake', '002', '32', 'M', '55000', '2020-05-16 11:38:37'),\n",
       " ('006', 'Abby', '001', '25', 'F', '40000', '2020-05-16 11:38:37'),\n",
       " ('007', 'Trump', '003', '80', 'M', '90000', '2020-05-16 11:38:37'),\n",
       " ('008', 'Eric', '001', '26', 'M', '85000', '2020-05-16 11:38:37')]"
      ]
     },
     "execution_count": 8,
     "metadata": {},
     "output_type": "execute_result"
    }
   ],
   "source": [
    "import time\n",
    "t = time.strftime('%Y-%m-%d %H:%M:%S', time.localtime())\n",
    "\n",
    "data = [tuple([jsondata[dt][d] for d in jsondata[dt]]) + (t, ) for dt in jsondata]\n",
    "data"
   ]
  },
  {
   "cell_type": "code",
   "execution_count": 9,
   "metadata": {},
   "outputs": [
    {
     "data": {
      "text/plain": [
       "8"
      ]
     },
     "execution_count": 9,
     "metadata": {},
     "output_type": "execute_result"
    }
   ],
   "source": [
    "cursor.executemany(sql_insert, data)"
   ]
  },
  {
   "cell_type": "code",
   "execution_count": 10,
   "metadata": {},
   "outputs": [],
   "source": [
    "conn.commit()"
   ]
  },
  {
   "cell_type": "code",
   "execution_count": 11,
   "metadata": {},
   "outputs": [],
   "source": [
    "cursor.close()\n",
    "conn.close()"
   ]
  },
  {
   "cell_type": "code",
   "execution_count": null,
   "metadata": {},
   "outputs": [],
   "source": []
  }
 ],
 "metadata": {
  "kernelspec": {
   "display_name": "Python 3",
   "language": "python",
   "name": "python3"
  },
  "language_info": {
   "codemirror_mode": {
    "name": "ipython",
    "version": 3
   },
   "file_extension": ".py",
   "mimetype": "text/x-python",
   "name": "python",
   "nbconvert_exporter": "python",
   "pygments_lexer": "ipython3",
   "version": "3.7.0"
  }
 },
 "nbformat": 4,
 "nbformat_minor": 4
}
