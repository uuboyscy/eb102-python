{
 "cells": [
  {
   "cell_type": "code",
   "execution_count": 1,
   "metadata": {},
   "outputs": [],
   "source": [
    "import sqlite3"
   ]
  },
  {
   "cell_type": "code",
   "execution_count": 2,
   "metadata": {},
   "outputs": [],
   "source": [
    "# Connect to sqlite file\n",
    "conn = sqlite3.connect('test.db')"
   ]
  },
  {
   "cell_type": "code",
   "execution_count": 3,
   "metadata": {},
   "outputs": [
    {
     "data": {
      "text/plain": [
       "<sqlite3.Cursor at 0x10eccd490>"
      ]
     },
     "execution_count": 3,
     "metadata": {},
     "output_type": "execute_result"
    }
   ],
   "source": [
    "# Execute SQL syntax\n",
    "conn.execute(\"\"\"CREATE TABLE IF NOT EXISTS `Staff` (\n",
    "  `ID` VARCHAR(10) NOT NULL,\n",
    "  `Name` VARCHAR(45) NOT NULL,\n",
    "  `DeptId` VARCHAR(10) NOT NULL,\n",
    "  `Age` INT NULL,\n",
    "  `Gender` VARCHAR(3) NULL,\n",
    "  `Salary` INT NULL,\n",
    "  `recordDt` DATETIME NOT NULL,\n",
    "  PRIMARY KEY (`ID`));\"\"\")"
   ]
  },
  {
   "cell_type": "code",
   "execution_count": 4,
   "metadata": {},
   "outputs": [],
   "source": [
    "sql = \"\"\"\n",
    "INSERT INTO Staff (ID, Name, DeptId, Age, Gender, Salary, recordDt)\n",
    "VALUES ('001', 'Jay', '001', 50, 'M', 56000, '2020-04-24 14:59:57');\n",
    "\"\"\"\n",
    "conn.execute(sql)\n",
    "conn.commit()"
   ]
  },
  {
   "cell_type": "code",
   "execution_count": 5,
   "metadata": {},
   "outputs": [
    {
     "name": "stdout",
     "output_type": "stream",
     "text": [
      "('001', 'Jay', '001', 50, 'M', 56000, '2020-04-24 14:59:57')\n"
     ]
    }
   ],
   "source": [
    "# Get query data\n",
    "for row in conn.execute(\"\"\"SELECT * FROM Staff;\"\"\"):\n",
    "    print(row)"
   ]
  },
  {
   "cell_type": "code",
   "execution_count": null,
   "metadata": {},
   "outputs": [],
   "source": []
  }
 ],
 "metadata": {
  "kernelspec": {
   "display_name": "Python 3",
   "language": "python",
   "name": "python3"
  },
  "language_info": {
   "codemirror_mode": {
    "name": "ipython",
    "version": 3
   },
   "file_extension": ".py",
   "mimetype": "text/x-python",
   "name": "python",
   "nbconvert_exporter": "python",
   "pygments_lexer": "ipython3",
   "version": "3.7.0"
  }
 },
 "nbformat": 4,
 "nbformat_minor": 4
}
