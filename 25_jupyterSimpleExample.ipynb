{
 "cells": [
  {
   "cell_type": "code",
   "execution_count": 1,
   "metadata": {},
   "outputs": [],
   "source": [
    "with open('Staff.txt', 'r', encoding='utf-8') as f:\n",
    "    jsonstr = f.read()"
   ]
  },
  {
   "cell_type": "code",
   "execution_count": 2,
   "metadata": {},
   "outputs": [
    {
     "data": {
      "text/plain": [
       "'| ID  |  Name | DeptId| Age | Gender | Salary |\\n| --- |  ---  |  ---  | --- |  ---   | ------ |\\n| 001 | Jay   | 001   | 50  |   M    | 56000  |\\n| 002 | Jenny | 001   | 30  |   F    | 47000  |\\n| 003 | Rick  | 002   | 45  |   M    | 50000  |\\n| 004 | David | 003   | 47  |   M    | 45000  |\\n| 005 | Jake  | 002   | 32  |   M    | 55000  |\\n| 006 | Abby  | 001   | 25  |   F    | 40000  |\\n| 007 | Trump | 003   | 80  |   M    | 90000  |\\n| 008 | Eric  | 001   | 26  |   M    | 85000  |'"
      ]
     },
     "execution_count": 2,
     "metadata": {},
     "output_type": "execute_result"
    }
   ],
   "source": [
    "jsonstr"
   ]
  },
  {
   "cell_type": "code",
   "execution_count": 3,
   "metadata": {},
   "outputs": [
    {
     "name": "stdout",
     "output_type": "stream",
     "text": [
      "| ID  |  Name | DeptId| Age | Gender | Salary |\n",
      "| --- |  ---  |  ---  | --- |  ---   | ------ |\n",
      "| 001 | Jay   | 001   | 50  |   M    | 56000  |\n",
      "| 002 | Jenny | 001   | 30  |   F    | 47000  |\n",
      "| 003 | Rick  | 002   | 45  |   M    | 50000  |\n",
      "| 004 | David | 003   | 47  |   M    | 45000  |\n",
      "| 005 | Jake  | 002   | 32  |   M    | 55000  |\n",
      "| 006 | Abby  | 001   | 25  |   F    | 40000  |\n",
      "| 007 | Trump | 003   | 80  |   M    | 90000  |\n",
      "| 008 | Eric  | 001   | 26  |   M    | 85000  |\n"
     ]
    }
   ],
   "source": [
    "print(jsonstr)"
   ]
  },
  {
   "cell_type": "code",
   "execution_count": 4,
   "metadata": {},
   "outputs": [],
   "source": [
    "jsonstr = jsonstr.replace(' ', '')"
   ]
  },
  {
   "cell_type": "code",
   "execution_count": 5,
   "metadata": {},
   "outputs": [
    {
     "data": {
      "text/plain": [
       "'|ID|Name|DeptId|Age|Gender|Salary|\\n|---|---|---|---|---|------|\\n|001|Jay|001|50|M|56000|\\n|002|Jenny|001|30|F|47000|\\n|003|Rick|002|45|M|50000|\\n|004|David|003|47|M|45000|\\n|005|Jake|002|32|M|55000|\\n|006|Abby|001|25|F|40000|\\n|007|Trump|003|80|M|90000|\\n|008|Eric|001|26|M|85000|'"
      ]
     },
     "execution_count": 5,
     "metadata": {},
     "output_type": "execute_result"
    }
   ],
   "source": [
    "jsonstr"
   ]
  },
  {
   "cell_type": "code",
   "execution_count": 6,
   "metadata": {},
   "outputs": [
    {
     "name": "stdout",
     "output_type": "stream",
     "text": [
      "|ID|Name|DeptId|Age|Gender|Salary|\n",
      "|---|---|---|---|---|------|\n",
      "|001|Jay|001|50|M|56000|\n",
      "|002|Jenny|001|30|F|47000|\n",
      "|003|Rick|002|45|M|50000|\n",
      "|004|David|003|47|M|45000|\n",
      "|005|Jake|002|32|M|55000|\n",
      "|006|Abby|001|25|F|40000|\n",
      "|007|Trump|003|80|M|90000|\n",
      "|008|Eric|001|26|M|85000|\n"
     ]
    }
   ],
   "source": [
    "print(jsonstr)"
   ]
  },
  {
   "cell_type": "code",
   "execution_count": 11,
   "metadata": {},
   "outputs": [
    {
     "data": {
      "text/plain": [
       "'|ID|Name|DeptId|Age|Gender|Salary|'"
      ]
     },
     "execution_count": 11,
     "metadata": {},
     "output_type": "execute_result"
    }
   ],
   "source": [
    "column_str = jsonstr.split('\\n')[0]\n",
    "column_str"
   ]
  },
  {
   "cell_type": "code",
   "execution_count": 12,
   "metadata": {},
   "outputs": [
    {
     "data": {
      "text/plain": [
       "['', 'ID', 'Name', 'DeptId', 'Age', 'Gender', 'Salary', '']"
      ]
     },
     "execution_count": 12,
     "metadata": {},
     "output_type": "execute_result"
    }
   ],
   "source": [
    "column = column_str.split('|')\n",
    "column"
   ]
  },
  {
   "cell_type": "code",
   "execution_count": 13,
   "metadata": {},
   "outputs": [
    {
     "data": {
      "text/plain": [
       "['ID', 'Name', 'DeptId', 'Age', 'Gender', 'Salary']"
      ]
     },
     "execution_count": 13,
     "metadata": {},
     "output_type": "execute_result"
    }
   ],
   "source": [
    "column = column[1:-1]\n",
    "column"
   ]
  },
  {
   "cell_type": "code",
   "execution_count": 14,
   "metadata": {},
   "outputs": [
    {
     "data": {
      "text/plain": [
       "['|ID|Name|DeptId|Age|Gender|Salary|',\n",
       " '|---|---|---|---|---|------|',\n",
       " '|001|Jay|001|50|M|56000|',\n",
       " '|002|Jenny|001|30|F|47000|',\n",
       " '|003|Rick|002|45|M|50000|',\n",
       " '|004|David|003|47|M|45000|',\n",
       " '|005|Jake|002|32|M|55000|',\n",
       " '|006|Abby|001|25|F|40000|',\n",
       " '|007|Trump|003|80|M|90000|',\n",
       " '|008|Eric|001|26|M|85000|']"
      ]
     },
     "execution_count": 14,
     "metadata": {},
     "output_type": "execute_result"
    }
   ],
   "source": [
    "data_str = jsonstr.split('\\n')\n",
    "data_str"
   ]
  },
  {
   "cell_type": "code",
   "execution_count": 15,
   "metadata": {},
   "outputs": [
    {
     "data": {
      "text/plain": [
       "['|001|Jay|001|50|M|56000|',\n",
       " '|002|Jenny|001|30|F|47000|',\n",
       " '|003|Rick|002|45|M|50000|',\n",
       " '|004|David|003|47|M|45000|',\n",
       " '|005|Jake|002|32|M|55000|',\n",
       " '|006|Abby|001|25|F|40000|',\n",
       " '|007|Trump|003|80|M|90000|',\n",
       " '|008|Eric|001|26|M|85000|']"
      ]
     },
     "execution_count": 15,
     "metadata": {},
     "output_type": "execute_result"
    }
   ],
   "source": [
    "data_str = data_str[2:]\n",
    "data_str"
   ]
  },
  {
   "cell_type": "code",
   "execution_count": 18,
   "metadata": {},
   "outputs": [
    {
     "data": {
      "text/plain": [
       "[['001', 'Jay', '001', '50', 'M', '56000'],\n",
       " ['002', 'Jenny', '001', '30', 'F', '47000'],\n",
       " ['003', 'Rick', '002', '45', 'M', '50000'],\n",
       " ['004', 'David', '003', '47', 'M', '45000'],\n",
       " ['005', 'Jake', '002', '32', 'M', '55000'],\n",
       " ['006', 'Abby', '001', '25', 'F', '40000'],\n",
       " ['007', 'Trump', '003', '80', 'M', '90000'],\n",
       " ['008', 'Eric', '001', '26', 'M', '85000']]"
      ]
     },
     "execution_count": 18,
     "metadata": {},
     "output_type": "execute_result"
    }
   ],
   "source": [
    "data = [r.split('|')[1:-1] for r in data_str]\n",
    "data"
   ]
  },
  {
   "cell_type": "code",
   "execution_count": 19,
   "metadata": {},
   "outputs": [
    {
     "data": {
      "text/plain": [
       "{'001': {'ID': '001',\n",
       "  'Name': 'Jay',\n",
       "  'DeptId': '001',\n",
       "  'Age': '50',\n",
       "  'Gender': 'M',\n",
       "  'Salary': '56000'},\n",
       " '002': {'ID': '002',\n",
       "  'Name': 'Jenny',\n",
       "  'DeptId': '001',\n",
       "  'Age': '30',\n",
       "  'Gender': 'F',\n",
       "  'Salary': '47000'},\n",
       " '003': {'ID': '003',\n",
       "  'Name': 'Rick',\n",
       "  'DeptId': '002',\n",
       "  'Age': '45',\n",
       "  'Gender': 'M',\n",
       "  'Salary': '50000'},\n",
       " '004': {'ID': '004',\n",
       "  'Name': 'David',\n",
       "  'DeptId': '003',\n",
       "  'Age': '47',\n",
       "  'Gender': 'M',\n",
       "  'Salary': '45000'},\n",
       " '005': {'ID': '005',\n",
       "  'Name': 'Jake',\n",
       "  'DeptId': '002',\n",
       "  'Age': '32',\n",
       "  'Gender': 'M',\n",
       "  'Salary': '55000'},\n",
       " '006': {'ID': '006',\n",
       "  'Name': 'Abby',\n",
       "  'DeptId': '001',\n",
       "  'Age': '25',\n",
       "  'Gender': 'F',\n",
       "  'Salary': '40000'},\n",
       " '007': {'ID': '007',\n",
       "  'Name': 'Trump',\n",
       "  'DeptId': '003',\n",
       "  'Age': '80',\n",
       "  'Gender': 'M',\n",
       "  'Salary': '90000'},\n",
       " '008': {'ID': '008',\n",
       "  'Name': 'Eric',\n",
       "  'DeptId': '001',\n",
       "  'Age': '26',\n",
       "  'Gender': 'M',\n",
       "  'Salary': '85000'}}"
      ]
     },
     "execution_count": 19,
     "metadata": {},
     "output_type": "execute_result"
    }
   ],
   "source": [
    "{staff[0]: {column[col]: d  for col, d in enumerate(staff)} for staff in data}"
   ]
  },
  {
   "cell_type": "code",
   "execution_count": null,
   "metadata": {},
   "outputs": [],
   "source": []
  }
 ],
 "metadata": {
  "kernelspec": {
   "display_name": "Python 3",
   "language": "python",
   "name": "python3"
  },
  "language_info": {
   "codemirror_mode": {
    "name": "ipython",
    "version": 3
   },
   "file_extension": ".py",
   "mimetype": "text/x-python",
   "name": "python",
   "nbconvert_exporter": "python",
   "pygments_lexer": "ipython3",
   "version": "3.7.0"
  }
 },
 "nbformat": 4,
 "nbformat_minor": 4
}
